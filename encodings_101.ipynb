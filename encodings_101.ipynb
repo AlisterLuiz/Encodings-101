{
 "cells": [
  {
   "attachments": {},
   "cell_type": "markdown",
   "metadata": {},
   "source": [
    "# Encodings 101\n",
    "\n",
    "This notebook showcases different strategies to encode categorical variables present in your dataset into numeric."
   ]
  },
  {
   "attachments": {},
   "cell_type": "markdown",
   "metadata": {},
   "source": [
    "We will go through the following _Encoding Strategies_:\n",
    "\n",
    "__Unsupervised -__ _Don’t make use of the target variable to encode categorical variables_\n",
    "1. Label Encoder\n",
    "2. One-Hot Encoder\n",
    "3. Frequency Encoder\n",
    "4. Binary Encoder\n",
    "5. Hashing Encoder\n",
    "\n",
    "__Supervised -__ _Employ the target variable to encode categorical variables._\n",
    "1. Target Encoder\n",
    "2. James-Stein Encoder\n",
    "3. M-Estimate Encoder\n",
    "4. Weight of Evidence Encoder\n",
    "5. Catboost Encoder"
   ]
  },
  {
   "attachments": {},
   "cell_type": "markdown",
   "metadata": {},
   "source": [
    "__Libraries Used:__\n",
    "\n",
    "1. [Category Encoders](https://contrib.scikit-learn.org/category_encoders/)\n",
    "2. [Numpy](https://numpy.org/)\n",
    "2. [Pandas](https://pandas.pydata.org/)\n",
    "3. [Plotly](https://plotly.com/python/)"
   ]
  },
  {
   "attachments": {},
   "cell_type": "markdown",
   "metadata": {},
   "source": [
    "__Let's get started!__"
   ]
  },
  {
   "attachments": {},
   "cell_type": "markdown",
   "metadata": {},
   "source": [
    "First let's install the libraries and import it"
   ]
  },
  {
   "cell_type": "code",
   "execution_count": 4,
   "metadata": {},
   "outputs": [
    {
     "name": "stdout",
     "output_type": "stream",
     "text": [
      "Note: you may need to restart the kernel to use updated packages.\n"
     ]
    }
   ],
   "source": [
    "%pip install -q category_encoders numpy pandas plotly"
   ]
  },
  {
   "cell_type": "code",
   "execution_count": 5,
   "metadata": {},
   "outputs": [],
   "source": [
    "import category_encoders\n",
    "import numpy as np\n",
    "import pandas as pd\n",
    "import plotly.express as px"
   ]
  },
  {
   "attachments": {},
   "cell_type": "markdown",
   "metadata": {},
   "source": [
    "### Load and Explore the Dataset"
   ]
  },
  {
   "attachments": {},
   "cell_type": "markdown",
   "metadata": {},
   "source": [
    "<!--\n",
    "Author: Alister Luiz (alisterluiz@gmail.com)\n",
    "encodings_101.ipynb (c) 2023\n",
    "Desc: description\n",
    "Created:  2023-01-15T10:04:09.539Z\n",
    "Modified: !date!\n",
    "-->\n",
    "\n"
   ]
  }
 ],
 "metadata": {
  "kernelspec": {
   "display_name": "base",
   "language": "python",
   "name": "python3"
  },
  "language_info": {
   "codemirror_mode": {
    "name": "ipython",
    "version": 3
   },
   "file_extension": ".py",
   "mimetype": "text/x-python",
   "name": "python",
   "nbconvert_exporter": "python",
   "pygments_lexer": "ipython3",
   "version": "3.9.12"
  },
  "orig_nbformat": 4,
  "vscode": {
   "interpreter": {
    "hash": "f08154012ddadd8e950e6e9e035c7a7b32c136e7647e9b7c77e02eb723a8bedb"
   }
  }
 },
 "nbformat": 4,
 "nbformat_minor": 2
}
